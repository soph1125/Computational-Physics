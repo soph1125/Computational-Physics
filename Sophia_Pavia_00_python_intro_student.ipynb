{
  "nbformat": 4,
  "nbformat_minor": 0,
  "metadata": {
    "colab": {
      "provenance": [],
      "include_colab_link": true
    },
    "kernelspec": {
      "name": "python3",
      "display_name": "Python 3"
    },
    "language_info": {
      "name": "python"
    }
  },
  "cells": [
    {
      "cell_type": "markdown",
      "metadata": {
        "id": "view-in-github",
        "colab_type": "text"
      },
      "source": [
        "<a href=\"https://colab.research.google.com/github/soph1125/Computational-Physics/blob/main/Final_of_Sophia_Pavia_00_python_intro_student.ipynb\" target=\"_parent\"><img src=\"https://colab.research.google.com/assets/colab-badge.svg\" alt=\"Open In Colab\"/></a>"
      ]
    },
    {
      "cell_type": "code",
      "execution_count": null,
      "metadata": {
        "id": "kvsJXb9MqEbx"
      },
      "outputs": [],
      "source": []
    },
    {
      "cell_type": "markdown",
      "source": [
        "# Import modules\n",
        "\n",
        "```\n",
        "import numpy as np\n",
        "from matplotlib import pyplot as plt\n",
        "```"
      ],
      "metadata": {
        "id": "3W-irX9hqHyY"
      }
    },
    {
      "cell_type": "code",
      "source": [
        "# your code here\n",
        "import numpy as np\n",
        "from matplotlib import pyplot as plt"
      ],
      "metadata": {
        "id": "PUDGrE9RqNPo"
      },
      "execution_count": null,
      "outputs": []
    },
    {
      "cell_type": "markdown",
      "source": [
        "# Defining Variables\n",
        "\n",
        "### A single variable\n",
        "```\n",
        "x = 2\n",
        "```\n",
        "\n",
        "### A list\n",
        "A list can contain different types of elements: numbers, strings, array, tuples.\n",
        "```\n",
        "mynumbers = [1,2,3]\n",
        "```\n",
        "\n",
        "```\n",
        "myletters = ['a','b','c','d','e']\n",
        "```\n",
        "\n",
        "\n"
      ],
      "metadata": {
        "id": "tfvZlkCbqPz5"
      }
    },
    {
      "cell_type": "code",
      "source": [
        "# define a variable x and set it equal to 1\n",
        "x = 1"
      ],
      "metadata": {
        "id": "RZ31vpmLqa4T"
      },
      "execution_count": null,
      "outputs": []
    },
    {
      "cell_type": "markdown",
      "source": [
        "# Printing\n",
        "\n",
        "Printing is so important when developing code.  If something is not working,\n",
        "you should insert print statements to check the values of your variables\n",
        "at different points in your code.\n",
        "\n",
        "The basic print format is:\n",
        "\n",
        "```\n",
        "print(\"This is a print statement.\")\n",
        "```"
      ],
      "metadata": {
        "id": "7tRzR95wqdzv"
      }
    },
    {
      "cell_type": "code",
      "source": [
        "# write a print statement to print \"hello world!\"\n",
        "print(\"hello world!\")\n",
        "print(\"1\")"
      ],
      "metadata": {
        "id": "oLJF171arQ4Y",
        "colab": {
          "base_uri": "https://localhost:8080/"
        },
        "outputId": "faeabad8-2cea-4e4d-e2cc-40ead2df05e1"
      },
      "execution_count": null,
      "outputs": [
        {
          "output_type": "stream",
          "name": "stdout",
          "text": [
            "hello world!\n",
            "1\n"
          ]
        }
      ]
    },
    {
      "cell_type": "markdown",
      "source": [
        "# Formatting Printing\n",
        "\n",
        "Our variables often have a large number of decimal places, and you might not\n",
        "want to print the full number.  "
      ],
      "metadata": {
        "id": "li3daLSnrcl-"
      }
    },
    {
      "cell_type": "code",
      "source": [
        "# formatted print statement\n",
        "print(f\"the value of x = {x}\")"
      ],
      "metadata": {
        "id": "wbXTXLl1uGOy",
        "colab": {
          "base_uri": "https://localhost:8080/"
        },
        "outputId": "b6d7f419-9363-482e-fcd2-8085fa1fb729"
      },
      "execution_count": null,
      "outputs": [
        {
          "output_type": "stream",
          "name": "stdout",
          "text": [
            "the value of x = 1\n"
          ]
        }
      ]
    },
    {
      "cell_type": "code",
      "source": [
        "np.pi\n",
        "print(f\"pi = {np.pi:.2f}\")\n",
        "G= 6.67e-11\n",
        "print(f\"G= {G}\")"
      ],
      "metadata": {
        "colab": {
          "base_uri": "https://localhost:8080/"
        },
        "id": "DN0Vr36a5xpp",
        "outputId": "52091a23-16c0-4fbf-842e-e52ac18021d1"
      },
      "execution_count": null,
      "outputs": [
        {
          "output_type": "stream",
          "name": "stdout",
          "text": [
            "pi = 3.14\n",
            "G= 6.67e-11\n"
          ]
        }
      ]
    },
    {
      "cell_type": "markdown",
      "source": [
        "# Functions\n",
        "\n",
        "Functions are chunks of code that can take input arguments and\n",
        "can return values.\n",
        "\n",
        "Here is a simple function that takes a number as an input and\n",
        "returns the number plus one and then prints the results.\n",
        "\n",
        "```\n",
        "def addone(x):\n",
        "    \"\"\"  this function adds one to the input number \"\"\"\n",
        "    x = x + 1\n",
        "    print(x)\n",
        "```"
      ],
      "metadata": {
        "id": "t8n87cLIuJsk"
      }
    },
    {
      "cell_type": "code",
      "source": [
        "# define the addone function here\n",
        "def addone(x):\n",
        "    \"\"\"  this function adds one to the input number \"\"\"\n",
        "    x = x + 1\n",
        "    return x"
      ],
      "metadata": {
        "id": "r8bSMEdrvRl5"
      },
      "execution_count": null,
      "outputs": []
    },
    {
      "cell_type": "markdown",
      "source": [
        "### Calling a function\n",
        "\n",
        "In the cell below, set `x=1` and pass `x` to `addone`.\n",
        "\n",
        "Then let's look at what happens to the value of x in the\n",
        "variable editor."
      ],
      "metadata": {
        "id": "ElWsHnE9vczc"
      }
    },
    {
      "cell_type": "code",
      "source": [
        "# define x =\n",
        "x = 1\n",
        "\n",
        "#pass x to function addone\n",
        "addone(x)\n",
        "\n",
        "print(f\"x = {x}\")\n",
        "y= addone(x)\n",
        "print(f\"y = {y}\")\n"
      ],
      "metadata": {
        "id": "zOjAknPIvVF9",
        "colab": {
          "base_uri": "https://localhost:8080/"
        },
        "outputId": "61d648bc-7863-4e8f-fd5c-e1e6b7cbb7ae"
      },
      "execution_count": null,
      "outputs": [
        {
          "output_type": "stream",
          "name": "stdout",
          "text": [
            "x = 1\n",
            "x= 1.00\n",
            "y = 2\n",
            "y= 2.00\n"
          ]
        }
      ]
    },
    {
      "cell_type": "markdown",
      "source": [
        "### Returning values from a function"
      ],
      "metadata": {
        "id": "e41blLTnvsut"
      }
    },
    {
      "cell_type": "code",
      "source": [
        "# update the addone funtion to:\n",
        "# print 2 decimal places\n",
        "# return the new value\n",
        "def addone(z):\n",
        "  \"\"\" this function adds one to the input number\"\"\"\n",
        "  z= z+1\n",
        "  print (f\"new value = {z:.2f}\")\n",
        "  return z\n"
      ],
      "metadata": {
        "id": "iMRz5wUUuYcc"
      },
      "execution_count": null,
      "outputs": []
    },
    {
      "cell_type": "code",
      "source": [
        "y = addone(x)"
      ],
      "metadata": {
        "colab": {
          "base_uri": "https://localhost:8080/"
        },
        "id": "5Uezv3n998He",
        "outputId": "134c8cb2-459f-49b4-bdbb-017023b8eea8"
      },
      "execution_count": null,
      "outputs": [
        {
          "output_type": "stream",
          "name": "stdout",
          "text": [
            "new value = 2.00\n"
          ]
        }
      ]
    },
    {
      "cell_type": "markdown",
      "source": [
        "# For Loops\n",
        "\n",
        "Let's set up an array to contain 10 values:\n",
        "```\n",
        "myvals = np.arange(10)\n",
        "```\n",
        "\n",
        "Now let's use a for loop to print out the number greater than 5.\n",
        "\n"
      ],
      "metadata": {
        "id": "3g7RUJ2bwsw5"
      }
    },
    {
      "cell_type": "code",
      "source": [
        "# your code here\n",
        "# for loop to print out numbers greater than 5\n",
        "myvals = np.arange(10)\n",
        "#print(myvals)\n",
        "\n",
        "for v in myvals:\n",
        "  if v >5:\n",
        "    print(v)\n",
        "\n",
        "\n",
        "#for i in range(len(myvals)):\n",
        "  #print(myvals[i])"
      ],
      "metadata": {
        "id": "Z6zyk-LUw1BT",
        "colab": {
          "base_uri": "https://localhost:8080/"
        },
        "outputId": "29c3501b-7aed-400e-d0cf-b3abea74b32c"
      },
      "execution_count": null,
      "outputs": [
        {
          "output_type": "stream",
          "name": "stdout",
          "text": [
            "6\n",
            "7\n",
            "8\n",
            "9\n"
          ]
        }
      ]
    },
    {
      "cell_type": "markdown",
      "source": [
        "# While loops\n",
        "\n",
        "A `while` loop will continue until the conditional is not met.\n",
        "\n",
        "Let's write a while loop to keep incrementing a number until the number reaches 20."
      ],
      "metadata": {
        "id": "N-lEkNdexYFG"
      }
    },
    {
      "cell_type": "code",
      "source": [
        "# while loop to keep incrementing a number until the number reaches 20\n",
        "mynum = 0\n",
        "\n",
        "while mynum < 20:\n",
        "  print(mynum)\n",
        "  mynum = mynum + 1\n",
        "\n",
        "print(f\"mynum = {mynum}\")"
      ],
      "metadata": {
        "id": "nLaKfZn3JXLq",
        "colab": {
          "base_uri": "https://localhost:8080/"
        },
        "outputId": "4ba44e9a-b21a-44d6-f139-0723086be620"
      },
      "execution_count": null,
      "outputs": [
        {
          "output_type": "stream",
          "name": "stdout",
          "text": [
            "0\n",
            "1\n",
            "2\n",
            "3\n",
            "4\n",
            "5\n",
            "6\n",
            "7\n",
            "8\n",
            "9\n",
            "10\n",
            "11\n",
            "12\n",
            "13\n",
            "14\n",
            "15\n",
            "16\n",
            "17\n",
            "18\n",
            "19\n",
            "mynum = 20\n"
          ]
        }
      ]
    },
    {
      "cell_type": "markdown",
      "source": [
        "# Conditionals\n",
        "\n"
      ],
      "metadata": {
        "id": "7ZSXMMjfw3Zi"
      }
    },
    {
      "cell_type": "code",
      "source": [
        "# ask for an input number\n",
        "test_number = int(input(\"enter a number between 1 and 10\\n\"))\n",
        "print(test_number)\n",
        "\n",
        "# if number is greater than 10, then reject input\n",
        "if test_number > 10:\n",
        "  print(\"Rejected, number is greater than 10\")\n",
        "# if number is less than 1, then reject input\n",
        "elif test_number <1:\n",
        "  print(\"Rejected, number is less than 1\")\n",
        "# if the user enters 7, print \"lucky guess\"\n",
        "elif test_number ==7:\n",
        "  print(\"lucky guess\")\n",
        "# for all other numbers, print \"not correct - better luck next time!\"\n",
        "else:\n",
        "    print(\"Not correct - better luck next time!\")"
      ],
      "metadata": {
        "id": "AiSellYDw2gG",
        "colab": {
          "base_uri": "https://localhost:8080/"
        },
        "outputId": "fb8f1b7a-f6e4-4a75-e44d-c343919b2b72"
      },
      "execution_count": null,
      "outputs": [
        {
          "output_type": "stream",
          "name": "stdout",
          "text": [
            "enter a number between 1 and 10\n",
            "6\n",
            "6\n",
            "Not correct - better luck next time!\n"
          ]
        }
      ]
    },
    {
      "cell_type": "code",
      "source": [
        "#need to turn this now into a function\n",
        "\n",
        "#name the function def lucky?(test_value)\n",
        "# if test_value >10:\n",
        "\n",
        "#after each, you turn different cells for each test case"
      ],
      "metadata": {
        "id": "L2DTzr-HHhWn"
      },
      "execution_count": null,
      "outputs": []
    },
    {
      "cell_type": "markdown",
      "source": [
        "# Basic Plotting\n",
        "\n",
        "Visualizing variables is essential for checking and understanding the results\n",
        "of any code that we write.\n",
        "\n",
        "We will start with a simple example to plot $y = 2 x^2$ over the range $0 \\le x \\le 10$."
      ],
      "metadata": {
        "id": "tSovgxtxyR7-"
      }
    },
    {
      "cell_type": "code",
      "source": [
        "# code to make plot here\n",
        "import matplotlib.pyplot as plt\n",
        "import numpy as np\n",
        "\n",
        "# define x using np.linspace\n",
        "\n",
        "x_values = np.linspace(0, 10, 100)\n",
        "\n",
        "# define y\n",
        "\n",
        "y_values = 2 * x_values**2\n",
        "\n",
        "# open a figure\n",
        "\n",
        "plt.figure()\n",
        "\n",
        "# plot y vs x using plt.plot\n",
        "\n",
        "plt.plot(x_values, y_values, label='y = 2x^2')\n",
        "plt.title('Plot using plt.plot' , fontsize = 16)\n",
        "plt.xlabel('x' , fontsize = 16)\n",
        "plt.ylabel('y' , fontsize = 16)\n",
        "plt.legend()\n",
        "\n",
        "\n",
        "# make another figure, but use plt.scatter instead of plt.plot\n",
        "\n",
        "plt.figure()\n",
        "plt.scatter(x_values, y_values, label='y = 2x^2')\n",
        "plt.title('Plot using plt.scatter' , fontsize = 16)\n",
        "plt.xlabel('x' , fontsize = 16)\n",
        "plt.ylabel('y' , fontsize = 16)\n",
        "plt.legend()\n",
        "\n",
        "plt.show()\n"
      ],
      "metadata": {
        "id": "K401UT-QzA4s",
        "colab": {
          "base_uri": "https://localhost:8080/",
          "height": 943
        },
        "outputId": "3b8e4e9a-99f4-4134-cd41-c37e8edbb3af"
      },
      "execution_count": null,
      "outputs": [
        {
          "output_type": "display_data",
          "data": {
            "text/plain": [
              "<Figure size 640x480 with 1 Axes>"
            ],
            "image/png": "[encoded data removed]"
          },
          "metadata": {}
        },
        {
          "output_type": "display_data",
          "data": {
            "text/plain": [
              "<Figure size 640x480 with 1 Axes>"
            ],
            "image/png": "[encoded data removed]"
          },
          "metadata": {}
        }
      ]
    },
    {
      "cell_type": "markdown",
      "source": [
        "# Function Practice\n",
        "Convert the lucky 7 cell into a fucntion where the user passes in a test value.\n",
        "\n",
        "\n"
      ],
      "metadata": {
        "id": "0mWKLfzsH8wr"
      }
    },
    {
      "cell_type": "code",
      "source": [
        "#need to turn this now into a function\n",
        "\"\"\" check if the input is between 1 and 10, and = 7 \"\"\"\n",
        "\n",
        "def lucky_num(test_number):\n",
        "  if test_number > 10:\n",
        "    print(\"Rejected, number is greater than 10\")\n",
        "    return 99\n",
        "# if number is less than 1, then reject input\n",
        "  elif test_number <1:\n",
        "    print(\"Rejected, number is less than 1\")\n",
        "    return -99\n",
        "# if the user enters 7, print \"lucky guess\"\n",
        "  elif test_number ==7:\n",
        "    print(\"lucky guess\")\n",
        "    return 1\n",
        "# for all other numbers, print \"not correct - better luck next time!\"\n",
        "  else:\n",
        "    print(\"Not correct - better luck next time!\")\n",
        "    return 0\n",
        "\n",
        "\n",
        "\n",
        "#after each, you turn different cells for each test case"
      ],
      "metadata": {
        "id": "jrkWdAvVH-zI"
      },
      "execution_count": 28,
      "outputs": []
    },
    {
      "cell_type": "code",
      "source": [
        "assert lucky_num(0) == -99"
      ],
      "metadata": {
        "colab": {
          "base_uri": "https://localhost:8080/"
        },
        "id": "G50Q6tUDKZdP",
        "outputId": "657c8a80-b85a-4e87-de41-0b9d0370d048"
      },
      "execution_count": 38,
      "outputs": [
        {
          "output_type": "stream",
          "name": "stdout",
          "text": [
            "Rejected, number is less than 1\n"
          ]
        }
      ]
    },
    {
      "cell_type": "code",
      "source": [
        "x =2\n",
        "assert x == 2"
      ],
      "metadata": {
        "id": "1PfxqAmIKbWX"
      },
      "execution_count": 34,
      "outputs": []
    },
    {
      "cell_type": "code",
      "source": [],
      "metadata": {
        "id": "vFnU7RrhLjao"
      },
      "execution_count": null,
      "outputs": []
    }
  ]
}
